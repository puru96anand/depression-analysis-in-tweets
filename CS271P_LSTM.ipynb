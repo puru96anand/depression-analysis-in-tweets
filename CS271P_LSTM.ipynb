{
  "nbformat": 4,
  "nbformat_minor": 0,
  "metadata": {
    "colab": {
      "name": "CS271P_LSTM.ipynb",
      "provenance": [],
      "collapsed_sections": []
    },
    "kernelspec": {
      "display_name": "Python 3",
      "name": "python3"
    },
    "language_info": {
      "name": "python"
    }
  },
  "cells": [
    {
      "cell_type": "code",
      "metadata": {
        "colab": {
          "base_uri": "https://localhost:8080/"
        },
        "id": "Ml0R0aeL9oV0",
        "outputId": "b0dff211-b917-4cc9-c2d0-d087bc7696c3"
      },
      "source": [
        "from google.colab import drive\n",
        "drive.mount('/content/gdrive')"
      ],
      "execution_count": null,
      "outputs": [
        {
          "output_type": "stream",
          "name": "stdout",
          "text": [
            "Mounted at /content/gdrive\n"
          ]
        }
      ]
    },
    {
      "cell_type": "code",
      "metadata": {
        "id": "wwPOmNi79xt6",
        "colab": {
          "base_uri": "https://localhost:8080/"
        },
        "outputId": "7445c099-2995-4040-e793-c5e791c873ec"
      },
      "source": [
        "!ls"
      ],
      "execution_count": null,
      "outputs": [
        {
          "output_type": "stream",
          "name": "stdout",
          "text": [
            "gdrive\tsample_data\n"
          ]
        }
      ]
    },
    {
      "cell_type": "code",
      "metadata": {
        "id": "9I0g6ndW9zrt",
        "colab": {
          "base_uri": "https://localhost:8080/"
        },
        "outputId": "389f3573-3f9c-42a5-94d3-d66b55ca7de3"
      },
      "source": [
        "%cd /content/gdrive/MyDrive/CS271P_project"
      ],
      "execution_count": null,
      "outputs": [
        {
          "output_type": "stream",
          "name": "stdout",
          "text": [
            "/content/gdrive/MyDrive/CS271P_project\n"
          ]
        }
      ]
    },
    {
      "cell_type": "code",
      "metadata": {
        "id": "doBcBvBZ91Dy",
        "colab": {
          "base_uri": "https://localhost:8080/"
        },
        "outputId": "6d70b21f-48e2-47fc-b85a-845a79a9c0ac"
      },
      "source": [
        "!ls"
      ],
      "execution_count": null,
      "outputs": [
        {
          "output_type": "stream",
          "name": "stdout",
          "text": [
            "1m_tweets.csv  data.csv  final_dataset.csv  glove  Suicide_Detection.csv\n"
          ]
        }
      ]
    },
    {
      "cell_type": "code",
      "metadata": {
        "id": "e4GbOH6o99Gr",
        "colab": {
          "base_uri": "https://localhost:8080/"
        },
        "outputId": "f5023866-1b78-4b50-da07-61377a5af461"
      },
      "source": [
        "import pandas as pd\n",
        "import re\n",
        "import string\n",
        "from wordcloud import WordCloud\n",
        "from textblob import TextBlob, Word\n",
        "import matplotlib.pyplot as plt\n",
        "import nltk\n",
        "nltk.download('wordnet')\n",
        "from sklearn.linear_model import LogisticRegression\n",
        "from sklearn.pipeline import Pipeline\n",
        "from sklearn.feature_extraction.text import CountVectorizer, TfidfTransformer\n",
        "from sklearn.metrics import accuracy_score, classification_report\n",
        "from sklearn.model_selection import train_test_split\n",
        "\n",
        "tweets = pd.read_csv('final_dataset.csv', encoding=\"utf-8\")"
      ],
      "execution_count": null,
      "outputs": [
        {
          "output_type": "stream",
          "name": "stdout",
          "text": [
            "[nltk_data] Downloading package wordnet to /root/nltk_data...\n",
            "[nltk_data]   Unzipping corpora/wordnet.zip.\n"
          ]
        }
      ]
    },
    {
      "cell_type": "code",
      "metadata": {
        "id": "HKED456o-Phc"
      },
      "source": [
        "def remove_unnecessary_data_from(tweets):\n",
        "    refined_tweets = []\n",
        "    for tweet in tweets:\n",
        "        tweet = str(tweet)\n",
        "        # Converting to lowercase\n",
        "        tweet = tweet.lower()\n",
        "        # Remove unnecessary things like mentions and hashtags\n",
        "        tweet = re.sub('@[^ ]+|#[^ ]+', '', tweet)\n",
        "        # Remove punctuation\n",
        "        tweet = tweet.replace('[^A-Za-z0-9 ]', \"\")\n",
        "        # Lemmatize all the words\n",
        "        tweet = \" \".join([Word(word).lemmatize() for word in tweet.split()])\n",
        "        refined_tweets.append(tweet)\n",
        "    return refined_tweets"
      ],
      "execution_count": null,
      "outputs": []
    },
    {
      "cell_type": "code",
      "metadata": {
        "id": "V_Wy3CBb-Vx-"
      },
      "source": [
        "X = remove_unnecessary_data_from([tweet for tweet in tweets['text']])"
      ],
      "execution_count": null,
      "outputs": []
    },
    {
      "cell_type": "code",
      "metadata": {
        "id": "gGFUiYHtEC-L"
      },
      "source": [
        "from keras.preprocessing.text import Tokenizer \n",
        "MAX_NUM_WORDS = 1000\n",
        "tokenizer= Tokenizer(num_words=MAX_NUM_WORDS)\n",
        "tokenizer.fit_on_texts(X)"
      ],
      "execution_count": null,
      "outputs": []
    },
    {
      "cell_type": "code",
      "metadata": {
        "id": "qGcFWEBTEENK",
        "colab": {
          "base_uri": "https://localhost:8080/"
        },
        "outputId": "3444bad2-a1c1-40fc-a3ad-524811d8b443"
      },
      "source": [
        "word_vector = tokenizer.texts_to_sequences(X)\n",
        "word_index = tokenizer.word_index\n",
        "vocab_size = len(word_index)\n",
        "vocab_size"
      ],
      "execution_count": null,
      "outputs": [
        {
          "output_type": "execute_result",
          "data": {
            "text/plain": [
              "15097"
            ]
          },
          "metadata": {},
          "execution_count": 9
        }
      ]
    },
    {
      "cell_type": "code",
      "metadata": {
        "id": "4trMpv3OEI1F",
        "colab": {
          "base_uri": "https://localhost:8080/"
        },
        "outputId": "5bd4451e-5b8c-48d3-b55f-bb228d043100"
      },
      "source": [
        "train_data, test_data = train_test_split(tweets, test_size=0.2, random_state=42)\n",
        "len_val_data = len(test_data)//2\n",
        "val_data = test_data[:len_val_data]\n",
        "test_data = test_data[len_val_data:]\n",
        "print(\"Train Data size:\", len(train_data))\n",
        "print(\"Test Data size\", len(test_data))\n",
        "print(\"Val Data size\", len(val_data))"
      ],
      "execution_count": null,
      "outputs": [
        {
          "output_type": "stream",
          "name": "stdout",
          "text": [
            "Train Data size: 10668\n",
            "Test Data size 1334\n",
            "Val Data size 1334\n"
          ]
        }
      ]
    },
    {
      "cell_type": "code",
      "metadata": {
        "id": "F-a09aZrEMdD",
        "colab": {
          "base_uri": "https://localhost:8080/"
        },
        "outputId": "d21b4d9f-70d1-4e20-c4ae-aec2928c2011"
      },
      "source": [
        "from keras.preprocessing.sequence import pad_sequences\n",
        "\n",
        "MAX_SEQUENCE_LENGTH = 50\n",
        "\n",
        "x_train = pad_sequences(tokenizer.texts_to_sequences(train_data.text),\n",
        "                        maxlen = MAX_SEQUENCE_LENGTH)\n",
        "x_test = pad_sequences(tokenizer.texts_to_sequences(test_data.text),\n",
        "                       maxlen = MAX_SEQUENCE_LENGTH)\n",
        "x_val = pad_sequences(tokenizer.texts_to_sequences(val_data.text),\n",
        "                       maxlen = MAX_SEQUENCE_LENGTH)\n",
        "\n",
        "print(\"Training X Shape:\",x_train.shape)\n",
        "print(\"Testing X Shape:\",x_test.shape)\n",
        "print(\"Validation X Shape:\",x_val.shape)"
      ],
      "execution_count": null,
      "outputs": [
        {
          "output_type": "stream",
          "name": "stdout",
          "text": [
            "Training X Shape: (10668, 50)\n",
            "Testing X Shape: (1334, 50)\n",
            "Validation X Shape: (1334, 50)\n"
          ]
        }
      ]
    },
    {
      "cell_type": "code",
      "metadata": {
        "id": "Nnj9M-fzEOrn",
        "colab": {
          "base_uri": "https://localhost:8080/"
        },
        "outputId": "4da2e790-014e-4342-a8f4-25f431ad1aea"
      },
      "source": [
        "from sklearn.preprocessing import LabelEncoder\n",
        "\n",
        "encoder = LabelEncoder()\n",
        "encoder.fit(train_data.label.to_list())\n",
        "\n",
        "y_train = encoder.transform(train_data.label.to_list())\n",
        "y_test = encoder.transform(test_data.label.to_list())\n",
        "y_val = encoder.transform(val_data.label.to_list())\n",
        "\n",
        "y_train = y_train.reshape(-1,1)\n",
        "y_test = y_test.reshape(-1,1)\n",
        "y_val = y_val.reshape(-1,1)\n",
        "\n",
        "print(\"y_train shape:\", y_train.shape)\n",
        "print(\"y_test shape:\", y_test.shape)\n",
        "print(\"y_val shape:\", y_val.shape)"
      ],
      "execution_count": null,
      "outputs": [
        {
          "output_type": "stream",
          "name": "stdout",
          "text": [
            "y_train shape: (10668, 1)\n",
            "y_test shape: (1334, 1)\n",
            "y_val shape: (1334, 1)\n"
          ]
        }
      ]
    },
    {
      "cell_type": "code",
      "metadata": {
        "id": "SCBHHZjeEUKD"
      },
      "source": [
        "GLOVE_EMB = 'glove/glove.6B.300d.txt'\n",
        "EMBEDDING_DIM = 300\n",
        "LR = 1e-3\n",
        "BATCH_SIZE = 512\n",
        "EPOCHS = 10"
      ],
      "execution_count": null,
      "outputs": []
    },
    {
      "cell_type": "code",
      "metadata": {
        "id": "BMHgvARLEWdE",
        "colab": {
          "base_uri": "https://localhost:8080/"
        },
        "outputId": "ac807f2e-d97e-4db9-fe61-9d5ff58e4af4"
      },
      "source": [
        "import numpy as np\n",
        "\n",
        "embeddings_index = {}\n",
        "\n",
        "f = open(GLOVE_EMB)\n",
        "for line in f:\n",
        "  values = line.split()\n",
        "  word = value = values[0]\n",
        "  coefs = np.asarray(values[1:], dtype='float32')\n",
        "  embeddings_index[word] = coefs\n",
        "f.close()\n",
        "\n",
        "print('Found %s word vectors.' %len(embeddings_index))"
      ],
      "execution_count": null,
      "outputs": [
        {
          "output_type": "stream",
          "name": "stdout",
          "text": [
            "Found 400000 word vectors.\n"
          ]
        }
      ]
    },
    {
      "cell_type": "code",
      "metadata": {
        "id": "Lp3NUQt8EYbU"
      },
      "source": [
        "embedding_matrix = np.zeros((vocab_size, EMBEDDING_DIM))\n",
        "for word, i in word_index.items():\n",
        "  embedding_vector = embeddings_index.get(word)\n",
        "  if embedding_vector is not None:\n",
        "    embedding_matrix[i] = embedding_vector"
      ],
      "execution_count": null,
      "outputs": []
    },
    {
      "cell_type": "code",
      "metadata": {
        "id": "SjXCapNhEaHp"
      },
      "source": [
        "import tensorflow as tf\n",
        "\n",
        "embedding_layer = tf.keras.layers.Embedding(vocab_size,\n",
        "                                          EMBEDDING_DIM,\n",
        "                                          weights=[embedding_matrix],\n",
        "                                          input_length=MAX_SEQUENCE_LENGTH,\n",
        "                                          trainable=False)"
      ],
      "execution_count": null,
      "outputs": []
    },
    {
      "cell_type": "code",
      "metadata": {
        "id": "8_cXLNeEKhED"
      },
      "source": [
        "from tensorflow.keras.layers import Conv1D, Bidirectional, LSTM, Dense, Input, Dropout\n",
        "from tensorflow.keras.layers import SpatialDropout1D\n",
        "from tensorflow.keras.callbacks import ModelCheckpoint"
      ],
      "execution_count": null,
      "outputs": []
    },
    {
      "cell_type": "code",
      "metadata": {
        "id": "icDpzuiwKhcJ"
      },
      "source": [
        "sequence_input = Input(shape=(MAX_SEQUENCE_LENGTH,), dtype='int32')\n",
        "embedding_sequences = embedding_layer(sequence_input)\n",
        "x = SpatialDropout1D(0.2)(embedding_sequences)\n",
        "x = Conv1D(64, 5, activation='relu')(x)\n",
        "x = Bidirectional(LSTM(64, dropout=0.2, recurrent_dropout=0.2))(x)\n",
        "x = Dense(512, activation='relu')(x)\n",
        "x = Dropout(0.5)(x)\n",
        "x = Dense(512, activation='relu')(x)\n",
        "outputs = Dense(1, activation='sigmoid')(x)\n",
        "model = tf.keras.Model(sequence_input, outputs)"
      ],
      "execution_count": null,
      "outputs": []
    },
    {
      "cell_type": "code",
      "metadata": {
        "id": "XBC5GJo1KlRF"
      },
      "source": [
        "from tensorflow.keras.optimizers import Adam\n",
        "from tensorflow.keras.callbacks import ReduceLROnPlateau\n",
        "\n",
        "model.compile(optimizer=Adam(learning_rate=LR), loss='binary_crossentropy', metrics=['accuracy'])\n",
        "ReduceLROnPlateau = ReduceLROnPlateau(factor=0.1,\n",
        "                                     min_lr = 0.01,\n",
        "                                     monitor = 'val_loss',\n",
        "                                     verbose = 1)"
      ],
      "execution_count": null,
      "outputs": []
    },
    {
      "cell_type": "code",
      "metadata": {
        "colab": {
          "base_uri": "https://localhost:8080/"
        },
        "id": "qYhk81ajKooL",
        "outputId": "734b49b0-9d92-4f37-f02b-09756ffb672e"
      },
      "source": [
        "history = model.fit(x_train, y_train, batch_size=BATCH_SIZE, epochs=EPOCHS, validation_data=(x_test, y_test), callbacks=[ReduceLROnPlateau])"
      ],
      "execution_count": null,
      "outputs": [
        {
          "output_type": "stream",
          "name": "stdout",
          "text": [
            "Epoch 1/10\n",
            "21/21 [==============================] - 27s 993ms/step - loss: 0.4499 - accuracy: 0.7953 - val_loss: 0.1739 - val_accuracy: 0.9445 - lr: 0.0010\n",
            "Epoch 2/10\n",
            "21/21 [==============================] - 20s 966ms/step - loss: 0.1842 - accuracy: 0.9296 - val_loss: 0.1130 - val_accuracy: 0.9558 - lr: 0.0010\n",
            "Epoch 3/10\n",
            "21/21 [==============================] - 20s 956ms/step - loss: 0.1167 - accuracy: 0.9584 - val_loss: 0.0979 - val_accuracy: 0.9618 - lr: 0.0010\n",
            "Epoch 4/10\n",
            "21/21 [==============================] - 20s 969ms/step - loss: 0.0874 - accuracy: 0.9689 - val_loss: 0.0953 - val_accuracy: 0.9655 - lr: 0.0010\n",
            "Epoch 5/10\n",
            "21/21 [==============================] - 20s 975ms/step - loss: 0.0728 - accuracy: 0.9749 - val_loss: 0.0795 - val_accuracy: 0.9715 - lr: 0.0010\n",
            "Epoch 6/10\n",
            "21/21 [==============================] - 20s 978ms/step - loss: 0.0567 - accuracy: 0.9801 - val_loss: 0.0935 - val_accuracy: 0.9685 - lr: 0.0010\n",
            "Epoch 7/10\n",
            "21/21 [==============================] - 20s 953ms/step - loss: 0.0511 - accuracy: 0.9821 - val_loss: 0.0748 - val_accuracy: 0.9775 - lr: 0.0010\n",
            "Epoch 8/10\n",
            "21/21 [==============================] - 20s 962ms/step - loss: 0.0415 - accuracy: 0.9853 - val_loss: 0.0797 - val_accuracy: 0.9738 - lr: 0.0010\n",
            "Epoch 9/10\n",
            "21/21 [==============================] - 20s 956ms/step - loss: 0.0406 - accuracy: 0.9863 - val_loss: 0.0755 - val_accuracy: 0.9783 - lr: 0.0010\n",
            "Epoch 10/10\n",
            "21/21 [==============================] - 20s 967ms/step - loss: 0.0349 - accuracy: 0.9883 - val_loss: 0.0783 - val_accuracy: 0.9745 - lr: 0.0010\n"
          ]
        }
      ]
    },
    {
      "cell_type": "code",
      "metadata": {
        "colab": {
          "base_uri": "https://localhost:8080/",
          "height": 312
        },
        "id": "z_Aa4bwbKqYL",
        "outputId": "8e7ed810-1df7-43f7-f0bd-2edf9c0be31c"
      },
      "source": [
        "s, (at, al) = plt.subplots(2,1)\n",
        "at.plot(history.history['accuracy'], c= 'b')\n",
        "at.plot(history.history['val_accuracy'], c='r')\n",
        "at.set_title('model accuracy')\n",
        "at.set_ylabel('accuracy')\n",
        "at.set_xlabel('epoch')\n",
        "at.legend(['LSTM_train', 'LSTM_val'], loc='upper left')\n",
        "\n",
        "al.plot(history.history['loss'], c='m')\n",
        "al.plot(history.history['val_loss'], c='c')\n",
        "al.set_title('model loss')\n",
        "al.set_ylabel('loss')\n",
        "al.set_xlabel('epoch')\n",
        "al.legend(['train', 'val'], loc = 'upper left')"
      ],
      "execution_count": null,
      "outputs": [
        {
          "output_type": "execute_result",
          "data": {
            "text/plain": [
              "<matplotlib.legend.Legend at 0x7f787876e690>"
            ]
          },
          "metadata": {},
          "execution_count": 25
        },
        {
          "output_type": "display_data",
          "data": {
            "image/png": "[encoded data removed]",
            "text/plain": [
              "<Figure size 432x288 with 2 Axes>"
            ]
          },
          "metadata": {
            "needs_background": "light"
          }
        }
      ]
    },
    {
      "cell_type": "code",
      "metadata": {
        "id": "y5gEGArWKtM6",
        "colab": {
          "base_uri": "https://localhost:8080/"
        },
        "outputId": "2fb0f346-1b8c-4a2e-9983-6048681ccfe8"
      },
      "source": [
        "def decode_sentiment(score):\n",
        "    return 1 if score>0.5 else 0\n",
        "\n",
        "\n",
        "scores = model.predict(x_val, verbose=1, batch_size=10000)\n",
        "y_pred_1d = [decode_sentiment(score) for score in scores]"
      ],
      "execution_count": null,
      "outputs": [
        {
          "output_type": "stream",
          "name": "stdout",
          "text": [
            "1/1 [==============================] - 1s 1s/step\n"
          ]
        }
      ]
    },
    {
      "cell_type": "code",
      "metadata": {
        "id": "qpdoYQbJKwbq",
        "colab": {
          "base_uri": "https://localhost:8080/"
        },
        "outputId": "998780fa-aa7b-48af-8238-a9beecf4c6c5"
      },
      "source": [
        "print('accuracy %s' % accuracy_score(y_pred_1d, list(val_data.label)))\n",
        "print(classification_report(list(val_data.label), y_pred_1d, digits=5))"
      ],
      "execution_count": null,
      "outputs": [
        {
          "output_type": "stream",
          "name": "stdout",
          "text": [
            "accuracy 0.9887556221889056\n",
            "              precision    recall  f1-score   support\n",
            "\n",
            "           0    0.98401   0.99413   0.98904       681\n",
            "           1    0.99381   0.98315   0.98845       653\n",
            "\n",
            "    accuracy                        0.98876      1334\n",
            "   macro avg    0.98891   0.98864   0.98875      1334\n",
            "weighted avg    0.98881   0.98876   0.98875      1334\n",
            "\n"
          ]
        }
      ]
    }
  ]
}