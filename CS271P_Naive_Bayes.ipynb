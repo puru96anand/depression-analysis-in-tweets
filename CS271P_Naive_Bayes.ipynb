{
  "nbformat": 4,
  "nbformat_minor": 0,
  "metadata": {
    "colab": {
      "name": "CS271P_Naive_Bayes.ipynb",
      "provenance": []
    },
    "kernelspec": {
      "name": "python3",
      "display_name": "Python 3"
    },
    "language_info": {
      "name": "python"
    }
  },
  "cells": [
    {
      "cell_type": "code",
      "metadata": {
        "id": "Ml0R0aeL9oV0",
        "colab": {
          "base_uri": "https://localhost:8080/"
        },
        "outputId": "6e7365eb-a130-4786-ac3b-45b31679b24c"
      },
      "source": [
        "from google.colab import drive\n",
        "drive.mount('/content/gdrive')"
      ],
      "execution_count": 1,
      "outputs": [
        {
          "output_type": "stream",
          "name": "stdout",
          "text": [
            "Mounted at /content/gdrive\n"
          ]
        }
      ]
    },
    {
      "cell_type": "code",
      "metadata": {
        "id": "wwPOmNi79xt6",
        "colab": {
          "base_uri": "https://localhost:8080/"
        },
        "outputId": "303bb76b-3a30-4832-9217-3fb0ff188ebd"
      },
      "source": [
        "!ls"
      ],
      "execution_count": 2,
      "outputs": [
        {
          "output_type": "stream",
          "name": "stdout",
          "text": [
            "gdrive\tsample_data\n"
          ]
        }
      ]
    },
    {
      "cell_type": "code",
      "metadata": {
        "id": "9I0g6ndW9zrt",
        "colab": {
          "base_uri": "https://localhost:8080/"
        },
        "outputId": "ce5c58fb-5b89-4166-fc02-7890df1c8bed"
      },
      "source": [
        "%cd /content/gdrive/MyDrive/CS271P_project"
      ],
      "execution_count": 3,
      "outputs": [
        {
          "output_type": "stream",
          "name": "stdout",
          "text": [
            "/content/gdrive/MyDrive/CS271P_project\n"
          ]
        }
      ]
    },
    {
      "cell_type": "code",
      "metadata": {
        "id": "doBcBvBZ91Dy",
        "colab": {
          "base_uri": "https://localhost:8080/"
        },
        "outputId": "454c90f0-c230-4072-c421-ce0201835c53"
      },
      "source": [
        "!ls"
      ],
      "execution_count": 4,
      "outputs": [
        {
          "output_type": "stream",
          "name": "stdout",
          "text": [
            "1m_tweets.csv  final_dataset.csv  glove\n"
          ]
        }
      ]
    },
    {
      "cell_type": "code",
      "metadata": {
        "id": "e4GbOH6o99Gr",
        "colab": {
          "base_uri": "https://localhost:8080/"
        },
        "outputId": "2b7d23fe-fe98-45ad-c852-324bb31d808b"
      },
      "source": [
        "import pandas as pd\n",
        "import re\n",
        "import string\n",
        "from wordcloud import WordCloud\n",
        "from textblob import TextBlob, Word\n",
        "import matplotlib.pyplot as plt\n",
        "import nltk\n",
        "nltk.download('wordnet')\n",
        "from sklearn.naive_bayes import MultinomialNB\n",
        "from sklearn.pipeline import Pipeline\n",
        "from sklearn.feature_extraction.text import CountVectorizer,TfidfTransformer\n",
        "from sklearn.metrics import accuracy_score, classification_report\n",
        "from sklearn.model_selection import train_test_split\n",
        "\n",
        "tweets = pd.read_csv('final_dataset.csv', encoding=\"utf-8\")"
      ],
      "execution_count": 5,
      "outputs": [
        {
          "output_type": "stream",
          "name": "stdout",
          "text": [
            "[nltk_data] Downloading package wordnet to /root/nltk_data...\n",
            "[nltk_data]   Unzipping corpora/wordnet.zip.\n"
          ]
        }
      ]
    },
    {
      "cell_type": "code",
      "metadata": {
        "id": "HKED456o-Phc"
      },
      "source": [
        "def remove_unnecessary_data_from(tweets):\n",
        "    refined_tweets = []\n",
        "    for tweet in tweets:\n",
        "        tweet = str(tweet)\n",
        "        # Converting to lowercase\n",
        "        tweet = tweet.lower()\n",
        "        # Remove unnecessary things like mentions and hashtags\n",
        "        tweet = re.sub('@[^ ]+|#[^ ]+', '', tweet)\n",
        "        # Remove punctuation\n",
        "        tweet = tweet.replace('[^A-Za-z0-9 ]', \"\")\n",
        "        # Lemmatize all the words\n",
        "        tweet = \" \".join([Word(word).lemmatize() for word in tweet.split()])\n",
        "        refined_tweets.append(tweet)\n",
        "    return refined_tweets"
      ],
      "execution_count": 6,
      "outputs": []
    },
    {
      "cell_type": "code",
      "metadata": {
        "id": "V_Wy3CBb-Vx-"
      },
      "source": [
        "X = remove_unnecessary_data_from([tweet for tweet in tweets['text']])"
      ],
      "execution_count": 7,
      "outputs": []
    },
    {
      "cell_type": "code",
      "metadata": {
        "id": "_CyN-Con_eXq"
      },
      "source": [
        "x_train, x_test, y_train, y_test = train_test_split(X, tweets.label, test_size=0.2, random_state = 42)"
      ],
      "execution_count": 8,
      "outputs": []
    },
    {
      "cell_type": "code",
      "metadata": {
        "id": "DhCbgIZb4_4y"
      },
      "source": [
        "val_len = len(x_test)//2\n",
        "x_val = x_test[:val_len]\n",
        "y_val = y_test[:val_len]\n",
        "x_test = x_test[val_len:]\n",
        "y_test = y_test[val_len:]"
      ],
      "execution_count": 9,
      "outputs": []
    },
    {
      "cell_type": "code",
      "metadata": {
        "colab": {
          "base_uri": "https://localhost:8080/"
        },
        "id": "vWZ--fZ1_hAk",
        "outputId": "61da8224-798c-423c-b7bc-430922d86a98"
      },
      "source": [
        "nb = Pipeline([('vect', CountVectorizer()),\n",
        "               ('tfidf', TfidfTransformer()),\n",
        "               ('clf', MultinomialNB()),\n",
        "              ])\n",
        "nb.fit(x_train, y_train)"
      ],
      "execution_count": 10,
      "outputs": [
        {
          "output_type": "execute_result",
          "data": {
            "text/plain": [
              "Pipeline(steps=[('vect', CountVectorizer()), ('tfidf', TfidfTransformer()),\n",
              "                ('clf', MultinomialNB())])"
            ]
          },
          "metadata": {},
          "execution_count": 10
        }
      ]
    },
    {
      "cell_type": "code",
      "metadata": {
        "colab": {
          "base_uri": "https://localhost:8080/"
        },
        "id": "P7VaBDNP_jaZ",
        "outputId": "8124bd93-f459-4f12-b441-f3076d5267ed"
      },
      "source": [
        "y_pred = nb.predict(x_val)\n",
        "\n",
        "print('accuracy %s' % accuracy_score(y_pred, y_val))\n",
        "print(classification_report(y_val, y_pred, digits=5))"
      ],
      "execution_count": 11,
      "outputs": [
        {
          "output_type": "stream",
          "name": "stdout",
          "text": [
            "accuracy 0.9370314842578711\n",
            "              precision    recall  f1-score   support\n",
            "\n",
            "           0    0.98223   0.89280   0.93538       681\n",
            "           1    0.89790   0.98315   0.93860       653\n",
            "\n",
            "    accuracy                        0.93703      1334\n",
            "   macro avg    0.94007   0.93798   0.93699      1334\n",
            "weighted avg    0.94095   0.93703   0.93696      1334\n",
            "\n"
          ]
        }
      ]
    }
  ]
}